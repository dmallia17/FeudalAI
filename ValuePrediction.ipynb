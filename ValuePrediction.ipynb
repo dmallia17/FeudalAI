{
 "cells": [
  {
   "cell_type": "markdown",
   "metadata": {},
   "source": [
    "## Experimental Test of Value Prediction\n",
    "\n",
    "The core idea here is to use estimates of state values produced by MCTS (i.e. estimates of value under the simulation policy used in the MCTS simulations) as the targets for a value prediction network. This would ideally make for better intermediate evaluation for Minimax and better simulations for MCTS."
   ]
  },
  {
   "cell_type": "code",
   "execution_count": null,
   "metadata": {},
   "outputs": [],
   "source": [
    "import os, datetime\n",
    "import tensorflow as tf\n",
    "from tensorflow.keras import Input, Model\n",
    "from tensorflow.keras.callbacks import ReduceLROnPlateau, TensorBoard\n",
    "from tensorflow.keras.layers import Conv2D, Concatenate, Dense, Flatten, MaxPooling2D\n",
    "from tensorflow.keras.optimizers import Adam\n",
    "import numpy as np\n",
    "from Board import *\n",
    "from LocalSearch import *\n",
    "import matplotlib.pyplot as plt"
   ]
  },
  {
   "cell_type": "markdown",
   "metadata": {},
   "source": [
    "### Preprocessing"
   ]
  },
  {
   "cell_type": "code",
   "execution_count": null,
   "metadata": {},
   "outputs": [],
   "source": [
    "piece_to_channel = {\n",
    "    \"king\" : 3,\n",
    "    \"prince\" : 4,\n",
    "    \"duke\" : 5,\n",
    "    \"knight\": 6,\n",
    "    \"sergeant\" : 7,\n",
    "    \"pikemen\" : 8,\n",
    "    \"squire\" : 9,\n",
    "    \"archer\" : 10}\n",
    "\n",
    "# Need 11 channels\n",
    "# 1. Terrain \n",
    "# 2. Castle greens (0.5 for brown, 1 for blue)\n",
    "# 3. Castle interiors (0.5 for brown, 1 for blue)\n",
    "# 4-11 - King, Prince, Duke, Knight, Sergeant, Pikemen, Squire, Archer (0.5 = brown of\n",
    "# that piece type, 1 = blue)\n",
    "def board_to_image(board):\n",
    "    board_img = np.zeros((24,24,11))\n",
    "    # Add terrain \n",
    "    for loc in board.rough:\n",
    "        board_img[loc[0], loc[1], 0] = 0.5 \n",
    "        \n",
    "    for loc in board.mountains:\n",
    "        board_img[loc[0], loc[1], 0] = 1.0\n",
    "        \n",
    "    # Add castle greens\n",
    "    board_img[board.blue_castle[0][0], board.blue_castle[0][1], 1] = 1\n",
    "    board_img[board.brown_castle[0][0], board.brown_castle[0][1], 1] = 0.5\n",
    "    \n",
    "    # Add castle interiors\n",
    "    board_img[board.blue_castle[1][0], board.blue_castle[1][1], 2] = 1\n",
    "    board_img[board.brown_castle[1][0], board.brown_castle[1][1], 2] = 0.5\n",
    "    \n",
    "    # Add piece locations\n",
    "    # Blue\n",
    "    for piece_loc, piece in board.blue_pieces_locations.items():\n",
    "        board_img[piece_loc[0], piece_loc[1], piece_to_channel[str(piece)]] = 1\n",
    "    # Brown\n",
    "    for piece_loc, piece in board.brown_pieces_locations.items():\n",
    "        board_img[piece_loc[0], piece_loc[1], piece_to_channel[str(piece)]] = 1\n",
    "        \n",
    "    return board_img\n",
    "    \n",
    "def view_board_image(board_img, channel):\n",
    "    plt.figure()\n",
    "    plt.imshow((board_img[:,:,channel] * 255), cmap=\"gray\", vmin=0, vmax=255)"
   ]
  },
  {
   "cell_type": "markdown",
   "metadata": {},
   "source": [
    "### Test the preprocessing function"
   ]
  },
  {
   "cell_type": "code",
   "execution_count": null,
   "metadata": {},
   "outputs": [],
   "source": [
    "b3 = Board()\n",
    "b3.parse_terrain(\"terrain_3M_official_1.txt\")\n",
    "blue_searcher = HillClimbingFirstChoice(b3, \"blue\")\n",
    "brown_searcher = HillClimbingFirstChoice(b3, \"brown\")\n",
    "blue_random = blue_searcher.get_random_start()\n",
    "brown_random = brown_searcher.get_random_start()\n",
    "b3.place_pieces(\"blue\", blue_random)\n",
    "b3.place_pieces(\"brown\", brown_random)\n",
    "board_img = board_to_image(b3)\n",
    "b3.display()"
   ]
  },
  {
   "cell_type": "code",
   "execution_count": null,
   "metadata": {},
   "outputs": [],
   "source": [
    "view_board_image(board_img, 0)"
   ]
  },
  {
   "cell_type": "code",
   "execution_count": null,
   "metadata": {},
   "outputs": [],
   "source": [
    "import sys\n",
    "print(sys.getsizeof(board_img))\n",
    "print(sys.getsizeof(b3.blue_pieces))"
   ]
  },
  {
   "cell_type": "code",
   "execution_count": null,
   "metadata": {},
   "outputs": [],
   "source": [
    "# Sample data\n",
    "np.save(\"StateData/Images/2\", board_img)\n",
    "np.save(\"StateData/Turns/2\", np.array([1]))\n",
    "np.save(\"StateData/Values/2\", np.array([.45]))"
   ]
  },
  {
   "cell_type": "markdown",
   "metadata": {},
   "source": [
    "### Load data"
   ]
  },
  {
   "cell_type": "code",
   "execution_count": null,
   "metadata": {},
   "outputs": [],
   "source": [
    "def load_np_array(fp):\n",
    "    return np.load(fp.numpy())\n",
    "\n",
    "seed = 12345\n",
    "imgs = tf.data.Dataset.list_files(\"StateData/Images/*\", seed=seed)\n",
    "imgs = imgs.map(lambda x: tf.py_function(func=load_np_array, inp=[x], Tout=tf.float32))\n",
    "turns = tf.data.Dataset.list_files(\"StateData/Turns/*\", seed=seed)\n",
    "turns = turns.map(lambda x: tf.py_function(func=load_np_array, inp=[x], Tout=tf.float32))\n",
    "labels = tf.data.Dataset.list_files(\"StateData/Values/*\", seed=seed)\n",
    "labels = labels.map(lambda x: tf.py_function(func=load_np_array, inp=[x], Tout=tf.float32))\n",
    "final_data = tf.data.Dataset.zip(((imgs, turns), labels)).batch(2)\n",
    "for i in final_data:\n",
    "    print(i)"
   ]
  },
  {
   "cell_type": "markdown",
   "metadata": {},
   "source": [
    "### Define the model"
   ]
  },
  {
   "cell_type": "code",
   "execution_count": null,
   "metadata": {},
   "outputs": [],
   "source": [
    "img = Input(shape=(24,24,11), name=\"board_img\")\n",
    "turn = Input(shape=(1,), name=\"turn\")\n",
    "\n",
    "# Per the below project, not using maxpooling\n",
    "# http://cs231n.stanford.edu/reports/2015/pdfs/ConvChess.pdf\n",
    "conv = Conv2D(32, kernel_size=(5,5), activation=\"relu\", name=\"conv1\")(img)\n",
    "conv = Conv2D(64, kernel_size=(5,5), activation=\"relu\", name=\"conv2\")(conv)\n",
    "conv = Conv2D(64, kernel_size=(5,5), activation=\"relu\", name=\"conv3\")(conv)\n",
    "flat = Flatten()(conv)\n",
    "concat = Concatenate()([flat, turn])\n",
    "dense = Dense(64, activation=\"relu\", name=\"dense1\")(concat)\n",
    "out = Dense(1, activation=\"sigmoid\", name=\"dense\")(dense)\n",
    "# sigmoid in last layer constricts value predictions to between 0 and 1\n",
    "\n",
    "model = Model(inputs=[img, turn], outputs=out)\n",
    "model.summary()\n",
    "\n",
    "optimizer = Adam(learning_rate=0.00001)\n",
    "model.compile(optimizer=optimizer, loss=\"mse\", metrics=\"mae\")"
   ]
  },
  {
   "cell_type": "markdown",
   "metadata": {},
   "source": [
    "### Model fit"
   ]
  },
  {
   "cell_type": "code",
   "execution_count": null,
   "metadata": {},
   "outputs": [],
   "source": [
    "# Using logdir code from tensorflow page:\n",
    "# https://www.tensorflow.org/tensorboard/tensorboard_in_notebooks\n",
    "logdir = os.path.join(\"logs\", datetime.datetime.now().strftime(\"%m%d-%H%M%S\"))\n",
    "model.fit(x=final_data, epochs=100, verbose=1,\n",
    "          callbacks=[TensorBoard(logdir), ReduceLROnPlateau(factor=0.5, verbose=1)])"
   ]
  },
  {
   "cell_type": "markdown",
   "metadata": {},
   "source": [
    "### Tensorboard"
   ]
  },
  {
   "cell_type": "code",
   "execution_count": null,
   "metadata": {},
   "outputs": [],
   "source": [
    "%tensorboard --logdir logs"
   ]
  },
  {
   "cell_type": "markdown",
   "metadata": {},
   "source": [
    "### Prediction"
   ]
  },
  {
   "cell_type": "code",
   "execution_count": null,
   "metadata": {},
   "outputs": [],
   "source": [
    "from time import time\n",
    "start=time()\n",
    "model.predict(final_data)\n",
    "print(time()-start)"
   ]
  }
 ],
 "metadata": {
  "kernelspec": {
   "display_name": "Python 3",
   "language": "python",
   "name": "python3"
  },
  "language_info": {
   "codemirror_mode": {
    "name": "ipython",
    "version": 3
   },
   "file_extension": ".py",
   "mimetype": "text/x-python",
   "name": "python",
   "nbconvert_exporter": "python",
   "pygments_lexer": "ipython3",
   "version": "3.8.5"
  }
 },
 "nbformat": 4,
 "nbformat_minor": 4
}
